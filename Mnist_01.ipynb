{
  "nbformat": 4,
  "nbformat_minor": 0,
  "metadata": {
    "colab": {
      "name": "Copy of Mnist_01",
      "version": "0.3.2",
      "provenance": [],
      "collapsed_sections": []
    },
    "kernelspec": {
      "name": "python3",
      "display_name": "Python 3"
    }
  },
  "cells": [
    {
      "cell_type": "code",
      "metadata": {
        "id": "WTYrWHOUBzC4",
        "colab_type": "code",
        "colab": {}
      },
      "source": [
        "import keras\n",
        "import matplotlib.pyplot as plt\n",
        "import numpy as np\n",
        "%matplotlib inline\n",
        "from sklearn.preprocessing import OneHotEncoder\n",
        "from sklearn.metrics import classification_report, confusion_matrix"
      ],
      "execution_count": 0,
      "outputs": []
    },
    {
      "cell_type": "code",
      "metadata": {
        "id": "vmo38fPrCEjt",
        "colab_type": "code",
        "colab": {}
      },
      "source": [
        "from keras.datasets import mnist"
      ],
      "execution_count": 0,
      "outputs": []
    },
    {
      "cell_type": "code",
      "metadata": {
        "id": "-aLrEHQdCdaG",
        "colab_type": "code",
        "colab": {}
      },
      "source": [
        "(x_train,y_train),(x_test,y_test)= mnist.load_data()"
      ],
      "execution_count": 0,
      "outputs": []
    },
    {
      "cell_type": "code",
      "metadata": {
        "id": "Xq5RkJeYLGhr",
        "colab_type": "code",
        "outputId": "30df744f-621c-41ba-e006-fe1b6e3eb7e5",
        "colab": {
          "base_uri": "https://localhost:8080/",
          "height": 34
        }
      },
      "source": [
        "x_train.shape,y_train.shape,x_test.shape,y_test.shape"
      ],
      "execution_count": 0,
      "outputs": [
        {
          "output_type": "execute_result",
          "data": {
            "text/plain": [
              "((60000, 28, 28), (60000,), (10000, 28, 28), (10000,))"
            ]
          },
          "metadata": {
            "tags": []
          },
          "execution_count": 63
        }
      ]
    },
    {
      "cell_type": "code",
      "metadata": {
        "id": "0AFuYweFJtFe",
        "colab_type": "code",
        "outputId": "4c6ce086-77be-4b62-c7a7-d71e477c04bc",
        "colab": {
          "base_uri": "https://localhost:8080/",
          "height": 34
        }
      },
      "source": [
        "input_dim = x_train.shape[1]*x_train.shape[2]\n",
        "input_dim"
      ],
      "execution_count": 0,
      "outputs": [
        {
          "output_type": "execute_result",
          "data": {
            "text/plain": [
              "784"
            ]
          },
          "metadata": {
            "tags": []
          },
          "execution_count": 64
        }
      ]
    },
    {
      "cell_type": "code",
      "metadata": {
        "id": "dcCE_irMKLdn",
        "colab_type": "code",
        "outputId": "15361a4c-3eaa-4b76-c3e2-44ba05f74d21",
        "colab": {
          "base_uri": "https://localhost:8080/",
          "height": 286
        }
      },
      "source": [
        "plt.imshow(x_train[20])"
      ],
      "execution_count": 0,
      "outputs": [
        {
          "output_type": "execute_result",
          "data": {
            "text/plain": [
              "<matplotlib.image.AxesImage at 0x7f66fe5d7b00>"
            ]
          },
          "metadata": {
            "tags": []
          },
          "execution_count": 65
        },
        {
          "output_type": "display_data",
          "data": {
            "image/png": "[encoded data removed]",
            "text/plain": [
              "<Figure size 432x288 with 1 Axes>"
            ]
          },
          "metadata": {
            "tags": []
          }
        }
      ]
    },
    {
      "cell_type": "code",
      "metadata": {
        "id": "8kn9VCFJKOoB",
        "colab_type": "code",
        "outputId": "37519125-80ba-4702-9e6f-7c2ce989f555",
        "colab": {
          "base_uri": "https://localhost:8080/",
          "height": 34
        }
      },
      "source": [
        "x_train=x_train.reshape(-1,784)\n",
        "x_test=x_test.reshape(-1,784)\n",
        "x_train.shape,x_test.shape"
      ],
      "execution_count": 0,
      "outputs": [
        {
          "output_type": "execute_result",
          "data": {
            "text/plain": [
              "((60000, 784), (10000, 784))"
            ]
          },
          "metadata": {
            "tags": []
          },
          "execution_count": 66
        }
      ]
    },
    {
      "cell_type": "code",
      "metadata": {
        "id": "7PixCHfv5RSJ",
        "colab_type": "code",
        "colab": {}
      },
      "source": [
        "x_train=x_train/255\n",
        "x_test=x_test/255"
      ],
      "execution_count": 0,
      "outputs": []
    },
    {
      "cell_type": "code",
      "metadata": {
        "id": "RSKR_dM347u5",
        "colab_type": "code",
        "colab": {}
      },
      "source": [
        "from keras.utils import to_categorical\n",
        "from keras.layers import Activation,Input,Dense\n",
        "from keras.models import Model\n",
        "y_train = keras.utils.to_categorical(y_train, num_classes=10)\n",
        "y_test = keras.utils.to_categorical(y_test, num_classes=10)"
      ],
      "execution_count": 0,
      "outputs": []
    },
    {
      "cell_type": "code",
      "metadata": {
        "id": "raiHI7I9BMu7",
        "colab_type": "code",
        "colab": {}
      },
      "source": [
        "#enc = OneHotEncoder()\n",
        "#y_test = enc.fit_transform(y_test.reshape((-1, 1))).toarray()\n",
        "#y_train = enc.fit_transform(y_train.reshape((-1,1))).toarray()"
      ],
      "execution_count": 0,
      "outputs": []
    },
    {
      "cell_type": "code",
      "metadata": {
        "id": "L4ZFkILhAmtA",
        "colab_type": "code",
        "outputId": "6de16cb9-4561-423d-f943-d271e9cb087c",
        "colab": {
          "base_uri": "https://localhost:8080/",
          "height": 34
        }
      },
      "source": [
        "y_train.shape,y_test.shape"
      ],
      "execution_count": 0,
      "outputs": [
        {
          "output_type": "execute_result",
          "data": {
            "text/plain": [
              "((60000, 10), (10000, 10))"
            ]
          },
          "metadata": {
            "tags": []
          },
          "execution_count": 70
        }
      ]
    },
    {
      "cell_type": "code",
      "metadata": {
        "id": "mbah3Zmj6R67",
        "colab_type": "code",
        "colab": {}
      },
      "source": [
        "img_input =Input(shape=(784,))\n",
        "x=Dense(units=128,activation=\"softmax\")(img_input)\n",
        "x=Dense(units=10,activation=\"sigmoid\")(x)"
      ],
      "execution_count": 0,
      "outputs": []
    },
    {
      "cell_type": "code",
      "metadata": {
        "id": "MuOvFDMl8t04",
        "colab_type": "code",
        "outputId": "20b56e9a-e109-4867-f643-2b6de3de4b81",
        "colab": {
          "base_uri": "https://localhost:8080/",
          "height": 238
        }
      },
      "source": [
        "model=Model(inputs=img_input,outputs=x)\n",
        "model.summary()"
      ],
      "execution_count": 0,
      "outputs": [
        {
          "output_type": "stream",
          "text": [
            "_________________________________________________________________\n",
            "Layer (type)                 Output Shape              Param #   \n",
            "=================================================================\n",
            "input_4 (InputLayer)         (None, 784)               0         \n",
            "_________________________________________________________________\n",
            "dense_7 (Dense)              (None, 128)               100480    \n",
            "_________________________________________________________________\n",
            "dense_8 (Dense)              (None, 10)                1290      \n",
            "=================================================================\n",
            "Total params: 101,770\n",
            "Trainable params: 101,770\n",
            "Non-trainable params: 0\n",
            "_________________________________________________________________\n"
          ],
          "name": "stdout"
        }
      ]
    },
    {
      "cell_type": "code",
      "metadata": {
        "id": "6y1txOEk-sWO",
        "colab_type": "code",
        "outputId": "516576c3-aa6a-4118-f888-842c1d535ed5",
        "colab": {
          "base_uri": "https://localhost:8080/",
          "height": 255
        }
      },
      "source": [
        "model.compile(optimizer='adam',loss=\"categorical_crossentropy\",metrics=['accuracy'])\n",
        "model.fit(x_train,y_train,batch_size=128,epochs=6,validation_split=0.20)"
      ],
      "execution_count": 0,
      "outputs": [
        {
          "output_type": "stream",
          "text": [
            "Train on 48000 samples, validate on 12000 samples\n",
            "Epoch 1/6\n",
            "48000/48000 [==============================] - 2s 48us/step - loss: 2.0631 - acc: 0.7605 - val_loss: 1.8287 - val_acc: 0.8912\n",
            "Epoch 2/6\n",
            "48000/48000 [==============================] - 2s 42us/step - loss: 1.6133 - acc: 0.8985 - val_loss: 1.3844 - val_acc: 0.9157\n",
            "Epoch 3/6\n",
            "48000/48000 [==============================] - 2s 42us/step - loss: 1.1915 - acc: 0.9157 - val_loss: 0.9999 - val_acc: 0.9253\n",
            "Epoch 4/6\n",
            "48000/48000 [==============================] - 2s 42us/step - loss: 0.8614 - acc: 0.9259 - val_loss: 0.7311 - val_acc: 0.9293\n",
            "Epoch 5/6\n",
            "48000/48000 [==============================] - 2s 42us/step - loss: 0.6434 - acc: 0.9307 - val_loss: 0.5636 - val_acc: 0.9303\n",
            "Epoch 6/6\n",
            "48000/48000 [==============================] - 3s 56us/step - loss: 0.5075 - acc: 0.9335 - val_loss: 0.4607 - val_acc: 0.9327\n"
          ],
          "name": "stdout"
        },
        {
          "output_type": "execute_result",
          "data": {
            "text/plain": [
              "<keras.callbacks.History at 0x7f66fe5e5908>"
            ]
          },
          "metadata": {
            "tags": []
          },
          "execution_count": 73
        }
      ]
    },
    {
      "cell_type": "code",
      "metadata": {
        "id": "amM0Nc1TIJuw",
        "colab_type": "code",
        "outputId": "773acf98-e07f-4e85-c4fc-7d4ee1b12742",
        "colab": {
          "base_uri": "https://localhost:8080/",
          "height": 68
        }
      },
      "source": [
        "print(model.metrics_names)\n",
        "model.evaluate(x_test,y_test,batch_size=128)"
      ],
      "execution_count": 0,
      "outputs": [
        {
          "output_type": "stream",
          "text": [
            "['loss', 'acc']\n",
            "10000/10000 [==============================] - 0s 27us/step\n"
          ],
          "name": "stdout"
        },
        {
          "output_type": "execute_result",
          "data": {
            "text/plain": [
              "[0.46025864849090575, 0.9334]"
            ]
          },
          "metadata": {
            "tags": []
          },
          "execution_count": 74
        }
      ]
    },
    {
      "cell_type": "code",
      "metadata": {
        "id": "H20bgzPqJi5t",
        "colab_type": "code",
        "outputId": "406dfcdd-f308-46a8-9e75-b6b29c87e4d5",
        "colab": {
          "base_uri": "https://localhost:8080/",
          "height": 34
        }
      },
      "source": [
        "preds=model.predict(x_test,batch_size=128)\n",
        "preds=preds.argmax(axis=1)\n",
        "preds"
      ],
      "execution_count": 0,
      "outputs": [
        {
          "output_type": "execute_result",
          "data": {
            "text/plain": [
              "array([7, 2, 1, ..., 4, 5, 6])"
            ]
          },
          "metadata": {
            "tags": []
          },
          "execution_count": 75
        }
      ]
    },
    {
      "cell_type": "code",
      "metadata": {
        "id": "YnnjquqhKxnZ",
        "colab_type": "code",
        "colab": {}
      },
      "source": [
        "y_test=y_test.argmax(axis=1)"
      ],
      "execution_count": 0,
      "outputs": []
    },
    {
      "cell_type": "code",
      "metadata": {
        "id": "U14JxpuZJ0Kz",
        "colab_type": "code",
        "outputId": "3975aca8-e0d5-4a73-a3ab-a1007b03c44d",
        "colab": {
          "base_uri": "https://localhost:8080/",
          "height": 34
        }
      },
      "source": [
        "preds[:10],y_test[:10]"
      ],
      "execution_count": 0,
      "outputs": [
        {
          "output_type": "execute_result",
          "data": {
            "text/plain": [
              "(array([7, 2, 1, 0, 4, 1, 4, 9, 6, 9]), array([7, 2, 1, 0, 4, 1, 4, 9, 5, 9]))"
            ]
          },
          "metadata": {
            "tags": []
          },
          "execution_count": 77
        }
      ]
    },
    {
      "cell_type": "code",
      "metadata": {
        "id": "vIYsCtnOKmQ5",
        "colab_type": "code",
        "outputId": "7aaee06b-3074-4730-e486-bd9f201843d3",
        "colab": {
          "base_uri": "https://localhost:8080/",
          "height": 306
        }
      },
      "source": [
        "from sklearn.metrics import classification_report\n",
        "print(classification_report(preds,y_test))"
      ],
      "execution_count": 0,
      "outputs": [
        {
          "output_type": "stream",
          "text": [
            "              precision    recall  f1-score   support\n",
            "\n",
            "           0       0.98      0.95      0.96      1020\n",
            "           1       0.97      0.98      0.98      1126\n",
            "           2       0.91      0.94      0.93      1002\n",
            "           3       0.93      0.89      0.91      1062\n",
            "           4       0.94      0.93      0.94       991\n",
            "           5       0.88      0.94      0.91       837\n",
            "           6       0.95      0.95      0.95       964\n",
            "           7       0.93      0.94      0.93      1012\n",
            "           8       0.91      0.90      0.91       992\n",
            "           9       0.91      0.92      0.91       994\n",
            "\n",
            "   micro avg       0.93      0.93      0.93     10000\n",
            "   macro avg       0.93      0.93      0.93     10000\n",
            "weighted avg       0.93      0.93      0.93     10000\n",
            "\n"
          ],
          "name": "stdout"
        }
      ]
    }
  ]
}